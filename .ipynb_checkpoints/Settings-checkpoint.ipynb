{
 "cells": [
  {
   "cell_type": "code",
   "execution_count": 2,
   "metadata": {},
   "outputs": [],
   "source": [
    "import os"
   ]
  },
  {
   "cell_type": "code",
   "execution_count": 31,
   "metadata": {},
   "outputs": [],
   "source": [
    "# Creacion de carpetas "
   ]
  },
  {
   "cell_type": "code",
   "execution_count": 33,
   "metadata": {},
   "outputs": [],
   "source": [
    "try:\n",
    "    os.makedirs(\"r'../../../MBD_INEI_PERU/A_MicroData\" ,exist_ok=True )\n",
    "    os.makedirs(\"r'../../../MBD_INEI_PERU/B_RawData\" ,exist_ok=True)\n",
    "    os.makedirs(\"r'../../../MBD_INEI_PERU/C_Programs\" ,exist_ok=True)\n",
    "    os.makedirs(\"r'../../../MBD_INEI_PERU/D_Results\" ,exist_ok=True)\n",
    "    os.makedirs(\"r'../../../MBD_INEI_PERU/E_Estimates\" ,exist_ok=True)\n",
    "    os.makedirs(\"r'../../../MBD_INEI_PERU/F_Figures\" , exist_ok=True)\n",
    "    os.makedirs(\"r'../../../MBD_INEI_PERU/G_Tables\" , exist_ok=True)\n",
    "    os.makedirs(\"r'../../../MBD_INEI_PERU/H_Literature\" , exist_ok=True )\n",
    "    \n",
    "except Exception as e:\n",
    "    print(e)"
   ]
  }
 ],
 "metadata": {
  "kernelspec": {
   "display_name": "Python 3",
   "language": "python",
   "name": "python3"
  },
  "language_info": {
   "codemirror_mode": {
    "name": "ipython",
    "version": 3
   },
   "file_extension": ".py",
   "mimetype": "text/x-python",
   "name": "python",
   "nbconvert_exporter": "python",
   "pygments_lexer": "ipython3",
   "version": "3.8.5"
  }
 },
 "nbformat": 4,
 "nbformat_minor": 4
}
