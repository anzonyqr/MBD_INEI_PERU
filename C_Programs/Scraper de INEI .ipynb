{
 "cells": [
  {
   "cell_type": "code",
   "execution_count": 20,
   "metadata": {},
   "outputs": [],
   "source": [
    "# Exporto las librerias\n",
    "from selenium import webdriver\n",
    "from selenium.webdriver.support.ui import WebDriverWait\n",
    "from selenium.webdriver.support import expected_conditions as EC\n",
    "from selenium.webdriver.common.by import By\n",
    "import time\n",
    "from time import sleep\n",
    "import numpy as np\n",
    "import pandas as pd\n",
    "from pandas import Series,DataFrame\n",
    "import re\n",
    "from selenium.webdriver.common.alert import Alert\n",
    "from selenium.common.exceptions import NoSuchElementException\n",
    "from selenium.webdriver import ActionChains\n",
    "from selenium.webdriver.common.keys import Keys\n",
    "import os\n",
    "from bs4 import BeautifulSoup\n",
    "import requests\n",
    "import urllib.request\n"
   ]
  },
  {
   "cell_type": "code",
   "execution_count": 34,
   "metadata": {},
   "outputs": [],
   "source": [
    "number_mod = [\"100\",\"200\",\"300\"]"
   ]
  },
  {
   "cell_type": "code",
   "execution_count": 31,
   "metadata": {},
   "outputs": [],
   "source": [
    "years = [\"2015\",\"2016\"]"
   ]
  },
  {
   "cell_type": "code",
   "execution_count": 23,
   "metadata": {},
   "outputs": [],
   "source": [
    "# Desabilitamos las extensiones\n",
    "options = webdriver.ChromeOptions()\n",
    "options.add_argument('--start-maximized')\n",
    "options.add_argument('--disable-extensions')"
   ]
  },
  {
   "cell_type": "code",
   "execution_count": 24,
   "metadata": {},
   "outputs": [
    {
     "name": "stderr",
     "output_type": "stream",
     "text": [
      "<ipython-input-24-f7b68e60f4f0>:3: DeprecationWarning: use options instead of chrome_options\n",
      "  driver = webdriver.Chrome(driver_path, chrome_options=options)\n"
     ]
    }
   ],
   "source": [
    "driver_path = r\"../chromedriver_win32/chromedriver.exe\"\n",
    "\n",
    "driver = webdriver.Chrome(driver_path, chrome_options=options)\n",
    "# Inicializamos el navegador\n",
    "driver.get('http://iinei.inei.gob.pe/microdatos/')\n",
    "\n"
   ]
  },
  {
   "cell_type": "code",
   "execution_count": 25,
   "metadata": {},
   "outputs": [],
   "source": [
    "# HERRAMIENTA PARA HACER DOBLE CLICK \n",
    "action = ActionChains(driver)"
   ]
  },
  {
   "cell_type": "code",
   "execution_count": 26,
   "metadata": {},
   "outputs": [],
   "source": [
    "# CLICK PARA ENTRAR A SELECCIONAR ENCUESTA DE PROGRAMAS PRESUPUESTALES - ENAPRES \n",
    "\n",
    "click_cerrar_anuncio = driver.find_element_by_xpath('/html/body/div[3]/div[1]/a/span').click()\n"
   ]
  },
  {
   "cell_type": "code",
   "execution_count": 27,
   "metadata": {},
   "outputs": [],
   "source": [
    "sleep(1)\n",
    "click_consulta_encuesta = driver.find_element_by_xpath('/html/body/div[1]/div[2]/div/div/div[2]/ul/li[1]/a').click()\n",
    "\n",
    "sleep(1)\n",
    "click_selec_encuesta = driver.find_element_by_xpath('/html/body/div[2]/div/div/div[4]/div/form[1]/div[4]/div/span/span[1]/span/span[2]').click()\n",
    "\n",
    "sleep(1)\n",
    "enapres =driver.find_element_by_xpath('/html/body/div[2]/div/div/div[4]/div/form[1]/div[4]/div/select/option[33]').click()\n",
    "action.double_click(enapres).perform()"
   ]
  },
  {
   "cell_type": "code",
   "execution_count": 47,
   "metadata": {},
   "outputs": [],
   "source": [
    "#Lista para los años \n",
    "lista=[]\n",
    "# listas para los url de las descargas \n",
    "url=[]"
   ]
  },
  {
   "cell_type": "code",
   "execution_count": 48,
   "metadata": {},
   "outputs": [
    {
     "name": "stdout",
     "output_type": "stream",
     "text": [
      "The folder 2015 already exists.\n",
      "2015\n",
      "100\n",
      "200\n",
      "300\n",
      "500\n",
      "600\n",
      "700\n",
      "800\n",
      "900\n",
      "1000\n",
      "100AB\n",
      "200A\n",
      "2016\n",
      "100\n",
      "200\n",
      "300\n",
      "500\n",
      "600\n",
      "700\n",
      "800\n",
      "800A\n",
      "900\n",
      "1000\n",
      "The folder 2016 already exists.\n",
      "2015\n",
      "100\n",
      "200\n",
      "300\n",
      "500\n",
      "600\n",
      "700\n",
      "800\n",
      "900\n",
      "1000\n",
      "100AB\n",
      "200A\n",
      "2016\n",
      "100\n",
      "200\n",
      "300\n",
      "500\n",
      "600\n",
      "700\n",
      "800\n",
      "800A\n",
      "900\n",
      "1000\n"
     ]
    }
   ],
   "source": [
    "\n",
    "for year in years :\n",
    "\n",
    "    path_folders = '../A_MicroData/'\n",
    "    path = os.path.join( path_folders , year)\n",
    "\n",
    "    try:\n",
    "        os.mkdir(path)\n",
    "    except FileExistsError:\n",
    "        print( f\"The folder {year} already exists.\")\n",
    "\n",
    "    for j in range(7,9,1):\n",
    "\n",
    "        sleep(3)\n",
    "        año_text = driver.find_element_by_xpath(f'/html/body/div[2]/div/div/div[4]/div/form[1]/div[5]/div[3]/div[2]/div/select/option[{j}]').text\n",
    "        print(año_text)\n",
    "        año = driver.find_element_by_xpath(f'/html/body/div[2]/div/div/div[4]/div/form[1]/div[5]/div[3]/div[2]/div/select/option[{j}]').click()\n",
    "\n",
    "        years_selec.append(año_text)\n",
    "\n",
    "        sleep(3)\n",
    "        selec_año = driver.find_element_by_xpath('/html/body/div[2]/div/div/div[4]/div/form[1]/div[5]/div[3]/div[2]/div/select').click()\n",
    "        action.double_click(selec_año).perform()\n",
    "\n",
    "        i = 2\n",
    "        box = \"no hay\"\n",
    "\n",
    "\n",
    "        while box !=0 :\n",
    "\n",
    "            try:\n",
    "\n",
    "                sleep(3)\n",
    "                anual =driver.find_element_by_xpath('/html/body/div[2]/div/div/div[4]/div/form[1]/div[5]/div[3]/div[4]/div/select/option[2]').click()\n",
    "\n",
    "                sleep(3)\n",
    "                modulo = driver.find_element_by_xpath(f'//*[@id=\"divDetalle\"]/table/tbody/tr/td/table/tbody/tr[{i}]/td[7]/a').text\n",
    "                modulo_sustr=re.search(r\"(?<= ).*(?= :)\",modulo)[0]\n",
    "                lista.append(modulo_sustr)\n",
    "                print(modulo_sustr)\n",
    "\n",
    "                items = driver.find_element_by_xpath(f'//*[@id=\"divDetalle\"]/table/tbody/tr/td/table/tbody/tr[{i}]/td[9]/a')\n",
    "                texto= items.get_attribute(\"href\")\n",
    "                url.append(texto)\n",
    "\n",
    "                i=i+1\n",
    "\n",
    "            except :\n",
    "\n",
    "                box = 0\n",
    "\n",
    "        for m in number_mod :\n",
    "\n",
    "            index_url =lista.index(m)\n",
    "            selecc_link = url[index_url]\n",
    "            urllib.request.urlretrieve(selecc_link, fr\"../A_MicroData/{year}/{m}_chaphter.zip\")\n",
    "\n",
    "\n",
    "  "
   ]
  }
 ],
 "metadata": {
  "kernelspec": {
   "display_name": "Python 3",
   "language": "python",
   "name": "python3"
  },
  "language_info": {
   "codemirror_mode": {
    "name": "ipython",
    "version": 3
   },
   "file_extension": ".py",
   "mimetype": "text/x-python",
   "name": "python",
   "nbconvert_exporter": "python",
   "pygments_lexer": "ipython3",
   "version": "3.8.5"
  }
 },
 "nbformat": 4,
 "nbformat_minor": 4
}
