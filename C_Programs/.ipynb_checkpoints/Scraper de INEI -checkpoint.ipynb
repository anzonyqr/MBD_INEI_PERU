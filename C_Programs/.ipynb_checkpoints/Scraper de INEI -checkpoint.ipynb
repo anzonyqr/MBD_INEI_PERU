{
 "cells": [
  {
   "cell_type": "code",
   "execution_count": 2,
   "metadata": {},
   "outputs": [],
   "source": [
    "# Exporto las librerias\n",
    "from selenium import webdriver\n",
    "from selenium.webdriver.support.ui import WebDriverWait\n",
    "from selenium.webdriver.support import expected_conditions as EC\n",
    "from selenium.webdriver.common.by import By\n",
    "import time\n",
    "from time import sleep\n",
    "import numpy as np\n",
    "import pandas as pd\n",
    "from pandas import Series,DataFrame\n",
    "import re\n",
    "from selenium.webdriver.common.alert import Alert\n",
    "from selenium.common.exceptions import NoSuchElementException\n",
    "from selenium.webdriver import ActionChains\n",
    "from selenium.webdriver.common.keys import Keys\n",
    "import os\n",
    "from bs4 import BeautifulSoup\n",
    "import requests\n",
    "import urllib.request\n"
   ]
  },
  {
   "cell_type": "code",
   "execution_count": 3,
   "metadata": {},
   "outputs": [],
   "source": [
    "number_mod = [\"100\",\"200\",\"300\",\"500\",\"600\",\"700\",\"800\",\"800A\",\"900\",\"1000\"]"
   ]
  },
  {
   "cell_type": "code",
   "execution_count": 5,
   "metadata": {},
   "outputs": [],
   "source": [
    "year = [2020 ,2019,2017]"
   ]
  },
  {
   "cell_type": "code",
   "execution_count": 22,
   "metadata": {},
   "outputs": [],
   "source": [
    "# Desabilitamos las extensiones\n",
    "options = webdriver.ChromeOptions()\n",
    "options.add_argument('--start-maximized')\n",
    "options.add_argument('--disable-extensions')"
   ]
  },
  {
   "cell_type": "code",
   "execution_count": 9,
   "metadata": {},
   "outputs": [
    {
     "name": "stderr",
     "output_type": "stream",
     "text": [
      "<ipython-input-9-f7b68e60f4f0>:3: DeprecationWarning: use options instead of chrome_options\n",
      "  driver = webdriver.Chrome(driver_path, chrome_options=options)\n"
     ]
    }
   ],
   "source": [
    "driver_path = r\"../chromedriver_win32/chromedriver.exe\"\n",
    "\n",
    "driver = webdriver.Chrome(driver_path, chrome_options=options)\n",
    "# Inicializamos el navegador\n",
    "driver.get('http://iinei.inei.gob.pe/microdatos/')\n",
    "\n"
   ]
  },
  {
   "cell_type": "code",
   "execution_count": 10,
   "metadata": {},
   "outputs": [],
   "source": [
    "# HERRAMIENTA PARA HACER DOBLE CLICK \n",
    "action = ActionChains(driver)"
   ]
  },
  {
   "cell_type": "code",
   "execution_count": 11,
   "metadata": {},
   "outputs": [],
   "source": [
    "# CLICK PARA ENTRAR A SELECCIONAR ENCUESTA DE PROGRAMAS PRESUPUESTALES - ENAPRES \n",
    "\n",
    "click_cerrar_anuncio = driver.find_element_by_xpath('/html/body/div[3]/div[1]/a/span').click()\n"
   ]
  },
  {
   "cell_type": "code",
   "execution_count": 12,
   "metadata": {},
   "outputs": [],
   "source": [
    "sleep(1)\n",
    "click_consulta_encuesta = driver.find_element_by_xpath('/html/body/div[1]/div[2]/div/div/div[2]/ul/li[1]/a').click()\n",
    "\n",
    "sleep(1)\n",
    "click_selec_encuesta = driver.find_element_by_xpath('/html/body/div[2]/div/div/div[4]/div/form[1]/div[4]/div/span/span[1]/span/span[2]').click()\n",
    "\n",
    "sleep(1)\n",
    "enapres =driver.find_element_by_xpath('/html/body/div[2]/div/div/div[4]/div/form[1]/div[4]/div/select/option[33]').click()\n",
    "action.double_click(enapres).perform()"
   ]
  },
  {
   "cell_type": "code",
   "execution_count": 13,
   "metadata": {},
   "outputs": [],
   "source": [
    "#Lista para los años \n",
    "lista=[]\n",
    "# listas para los url de las descargas \n",
    "url=[]"
   ]
  },
  {
   "cell_type": "code",
   "execution_count": 21,
   "metadata": {},
   "outputs": [],
   "source": [
    "# Creacion de Carpetas \n",
    "try:\n",
    "    os.makedirs(r\"../A_MicroData/2017\", exist_ok=True)\n",
    "    os.makedirs(r\"../A_MicroData/2018\", exist_ok=True)\n",
    "    os.makedirs(r\"../A_MicroData/2019\" ,exist_ok=True)\n",
    "    os.makedirs(r\"../A_MicroData/2020\", exist_ok=True)\n",
    "\n",
    "except Exception as e:\n",
    "    print(e)\n"
   ]
  },
  {
   "cell_type": "code",
   "execution_count": 17,
   "metadata": {},
   "outputs": [
    {
     "name": "stdout",
     "output_type": "stream",
     "text": [
      "100\n",
      "200\n",
      "300\n",
      "500\n",
      "600\n",
      "700\n",
      "800\n",
      "800A\n",
      "900\n",
      "1000\n"
     ]
    }
   ],
   "source": [
    "#Seleccionar a la casilla año \n",
    "selec_año = driver.find_element_by_xpath('/html/body/div[2]/div/div/div[4]/div/form[1]/div[5]/div[3]/div[2]/div/select').click()\n",
    "action.double_click(selec_año).perform()\n",
    "\n",
    "# Encontrar la cantidad total de años que estan el cuadro AÑO \n",
    "pag_1 =driver.find_element_by_xpath('//*[@id=\"divAnio\"]').text\n",
    "pag_2 = pag_1 .split('\\n')\n",
    "pag_3 = int(len(pag_2))/2\n",
    "pagina_total =round(pag_3)\n",
    "pagina_total\n",
    "\n",
    "for j in range(9, 10 ,1):\n",
    "    \n",
    "    sleep(3)\n",
    "    año = driver.find_element_by_xpath(f'/html/body/div[2]/div/div/div[4]/div/form[1]/div[5]/div[3]/div[2]/div/select/option[{j}]').click()\n",
    "    \n",
    "    i = 2\n",
    "    box = \"no hay\"\n",
    "    \n",
    "    while box !=0 :\n",
    "        \n",
    "\n",
    "    #for i in range (2,7,2):\n",
    "        \n",
    "        try:\n",
    "            \n",
    "            sleep(3)\n",
    "            anual =driver.find_element_by_xpath('/html/body/div[2]/div/div/div[4]/div/form[1]/div[5]/div[3]/div[4]/div/select/option[2]').click()\n",
    "            sleep(3)\n",
    "            \n",
    "            años = driver.find_element_by_xpath(f'//*[@id=\"divDetalle\"]/table/tbody/tr/td/table/tbody/tr[{i}]/td[7]/a').text\n",
    "            años_sustr=re.search(r\"(?<= ).*(?= :)\",años)[0]\n",
    "            lista.append(años_sustr)\n",
    "            print(años_sustr)\n",
    "            \n",
    "            items = driver.find_element_by_xpath(f'//*[@id=\"divDetalle\"]/table/tbody/tr/td/table/tbody/tr[{i}]/td[9]/a')\n",
    "            texto= items.get_attribute(\"href\")\n",
    "            url.append(texto)\n",
    "            \n",
    "            i=i+1                       \n",
    "                 \n",
    "        except :\n",
    "            \n",
    "            box = 0\n",
    "            \n",
    "    \n",
    "    \n",
    "    for m in number_mod :\n",
    "\n",
    "        index_url =lista.index(m)\n",
    "        selecc_link = url[index_url]\n",
    "        sleep(1)\n",
    "        urllib.request.urlretrieve(selecc_link, r\"../A_MicroData/2017/{}.zip\".format(m))\n",
    "        #urllib.request.urlretrieve(selecc_link, f'C:/Users/MIGUEL/Downloads/INEI/2017/{m}_chapher.zip')\n",
    "\n",
    "            \n",
    "       "
   ]
  }
 ],
 "metadata": {
  "kernelspec": {
   "display_name": "Python 3",
   "language": "python",
   "name": "python3"
  },
  "language_info": {
   "codemirror_mode": {
    "name": "ipython",
    "version": 3
   },
   "file_extension": ".py",
   "mimetype": "text/x-python",
   "name": "python",
   "nbconvert_exporter": "python",
   "pygments_lexer": "ipython3",
   "version": "3.8.5"
  }
 },
 "nbformat": 4,
 "nbformat_minor": 4
}
