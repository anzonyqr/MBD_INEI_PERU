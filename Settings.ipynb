{
 "cells": [
  {
   "cell_type": "code",
   "execution_count": 2,
   "metadata": {},
   "outputs": [],
   "source": [
    "import os"
   ]
  },
  {
   "cell_type": "code",
   "execution_count": 31,
   "metadata": {},
   "outputs": [],
   "source": [
    "# Creacion de carpetas "
   ]
  },
  {
   "cell_type": "code",
   "execution_count": 32,
   "metadata": {},
   "outputs": [
    {
     "name": "stdout",
     "output_type": "stream",
     "text": [
      "'builtin_function_or_method' object has no attribute 'rename'\n"
     ]
    }
   ],
   "source": [
    "try:\n",
    "    os.mkdir(\"r'../../../MBD_INEI_PERU/A_MicroData\")\n",
    "    os.mkdir(\"r'../../../MBD_INEI_PERU/B_RawData\")\n",
    "    os.mkdir(\"r'../../../MBD_INEI_PERU/C_Programs\")\n",
    "    os.mkdir(\"r'../../../MBD_INEI_PERU/D_Results\")\n",
    "    os.mkdir(\"r'../../../MBD_INEI_PERU/E_Estimates\")\n",
    "    os.mkdir(\"r'../../../MBD_INEI_PERU/F_Figures\")\n",
    "    os.mkdir(\"r'../../../MBD_INEI_PERU/G_Tables\")\n",
    "    os.mkdir(\"r'../../../MBD_INEI_PERU/H_Literature\")\n",
    "    \n",
    "except Exception as e:\n",
    "    print(e)"
   ]
  }
 ],
 "metadata": {
  "kernelspec": {
   "display_name": "Python 3",
   "language": "python",
   "name": "python3"
  },
  "language_info": {
   "codemirror_mode": {
    "name": "ipython",
    "version": 3
   },
   "file_extension": ".py",
   "mimetype": "text/x-python",
   "name": "python",
   "nbconvert_exporter": "python",
   "pygments_lexer": "ipython3",
   "version": "3.8.5"
  }
 },
 "nbformat": 4,
 "nbformat_minor": 4
}
